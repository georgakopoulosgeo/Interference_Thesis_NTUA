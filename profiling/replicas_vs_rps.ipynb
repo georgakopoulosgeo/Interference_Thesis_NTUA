{
 "cells": [
  {
   "cell_type": "code",
   "execution_count": null,
   "id": "7a991d45",
   "metadata": {},
   "outputs": [],
   "source": [
    "import os\n",
    "import pandas as pd\n",
    "from pathlib import Path\n",
    "import matplotlib.pyplot as plt\n",
    "import numpy as np\n",
    "import seaborn as sns"
   ]
  },
  {
   "cell_type": "code",
   "execution_count": null,
   "id": "60b5eae0",
   "metadata": {},
   "outputs": [],
   "source": [
    "# Define the local path to store the CSV files from the LabPC\n",
    "local_results_folder = Path(\"./Baseline_Data\")\n",
    "# Create the folder if it does not already exist\n",
    "local_results_folder.mkdir(parents=True, exist_ok=True)\n",
    "print(f\"Local results folder set to: {local_results_folder.resolve()}\")"
   ]
  },
  {
   "cell_type": "code",
   "execution_count": null,
   "id": "5b3d25c1",
   "metadata": {},
   "outputs": [],
   "source": [
    "# Replace 'george@147.102.13.77' and the remote path with your actual credentials and remote paths\n",
    "remote_path = \"george@147.102.13.77:/home/george/Workspace/Chaos_V04_Baselines/*\"\n",
    "\n",
    "# Use shell command to securely copy all CSV files from remote\n",
    "!scp {remote_path} {str(local_results_folder)}/ "
   ]
  },
  {
   "cell_type": "code",
   "execution_count": null,
   "id": "c1e36b9d",
   "metadata": {},
   "outputs": [],
   "source": [
    "Data_Dir_HR = 'HR_Data'\n",
    "Data_Dir_Nginx = 'Baseline_Data'\n",
    "Data_Dir = Data_Dir_Nginx\n",
    "#traffic = 'TC-VM-01'\n",
    "Perfomance_File = os.path.join(Data_Dir, 'nginx_metrics.csv')\n",
    "\n",
    "\n",
    "if os.path.exists(Perfomance_File):\n",
    "    df_baselines = pd.read_csv(Perfomance_File)\n",
    "    print(\"Loaded performance metrics:\")\n",
    "    display(df_baselines)\n",
    "    print(df_baselines.shape)\n",
    "else:\n",
    "    print(f\"Performance file not found at {Perfomance_File}. Please verify path.\")\n",
    "    df_baselines = pd.DataFrame()"
   ]
  },
  {
   "cell_type": "code",
   "execution_count": null,
   "id": "d776f34a",
   "metadata": {},
   "outputs": [],
   "source": [
    "def plot_baseline_heatmap(df_baselines, metric=\"P99_Latency\"):\n",
    "    # Extract numeric RPS and Replicas from strings\n",
    "    df = df_baselines.copy()\n",
    "    df[\"RPS\"] = df[\"Given_RPS\"].astype(float)\n",
    "    df[\"Replicas\"] = df[\"Replicas\"].astype(int)\n",
    "\n",
    "    # Pivot the table to form a 2D matrix: rows=Replicas, columns=RPS\n",
    "    heatmap_data = df.pivot_table(index=\"Replicas\", columns=\"RPS\", values=metric)\n",
    "\n",
    "    # Plot heatmap\n",
    "    plt.figure(figsize=(10, 6))\n",
    "    sns.heatmap(heatmap_data, annot=True, fmt=\".3f\", cmap=\"viridis\")\n",
    "    plt.title(f\"Heatmap of {metric} by Replicas and RPS\")\n",
    "    plt.xlabel(\"Requests Per Second (RPS)\")\n",
    "    plt.ylabel(\"Number of Replicas\")\n",
    "    plt.tight_layout()\n",
    "    plt.show()\n"
   ]
  },
  {
   "cell_type": "code",
   "execution_count": null,
   "id": "3d4bcdd8",
   "metadata": {},
   "outputs": [],
   "source": [
    "plot_baseline_heatmap(df_baselines, metric=\"P99_Latency\")"
   ]
  }
 ],
 "metadata": {
  "language_info": {
   "name": "python"
  }
 },
 "nbformat": 4,
 "nbformat_minor": 5
}
